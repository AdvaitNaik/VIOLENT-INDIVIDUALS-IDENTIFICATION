{
  "nbformat": 4,
  "nbformat_minor": 0,
  "metadata": {
    "colab": {
      "name": "VIOLENT INDIVIDUALS IDENTIFICATION  MAIN.ipynb",
      "provenance": [],
      "collapsed_sections": [],
      "authorship_tag": "ABX9TyNPVEyoQ/AiZlfczJQc3KOV"
    },
    "kernelspec": {
      "name": "python3",
      "display_name": "Python 3"
    },
    "accelerator": "GPU"
  },
  "cells": [
    {
      "cell_type": "markdown",
      "metadata": {
        "id": "UkSAfceSTGJz",
        "colab_type": "text"
      },
      "source": [
        "**DRIVE MOUNTING**"
      ]
    },
    {
      "cell_type": "code",
      "metadata": {
        "id": "B2HqGzLQvgPe",
        "colab_type": "code",
        "outputId": "37c9dadc-2739-43ee-9c3d-f09646cfeca5",
        "colab": {
          "base_uri": "https://localhost:8080/",
          "height": 34
        }
      },
      "source": [
        "from google.colab import drive\n",
        "drive.mount('/content/drive')"
      ],
      "execution_count": 0,
      "outputs": [
        {
          "output_type": "stream",
          "text": [
            "Drive already mounted at /content/drive; to attempt to forcibly remount, call drive.mount(\"/content/drive\", force_remount=True).\n"
          ],
          "name": "stdout"
        }
      ]
    },
    {
      "cell_type": "markdown",
      "metadata": {
        "id": "tHvuh0JAV-Bq",
        "colab_type": "text"
      },
      "source": [
        "**IMPORTING LIBRARIES**"
      ]
    },
    {
      "cell_type": "code",
      "metadata": {
        "id": "v8VWqpUNpX2o",
        "colab_type": "code",
        "outputId": "5b2eb507-a1ca-4c47-dc47-3ce7692d8b98",
        "colab": {
          "base_uri": "https://localhost:8080/",
          "height": 34
        }
      },
      "source": [
        "%matplotlib inline\n",
        "import cv2\n",
        "import os\n",
        "import numpy as np\n",
        "import keras\n",
        "import matplotlib.pyplot as plt\n",
        "from random import shuffle\n",
        "from keras.applications import MobileNet\n",
        "from keras import backend as K\n",
        "from keras.models import Model, Sequential\n",
        "from keras.layers import Input\n",
        "from keras.layers import LSTM\n",
        "from keras.layers import Dense, Activation, Dropout\n",
        "import sys\n",
        "import h5py\n",
        "\n",
        "print (\"Done!\")"
      ],
      "execution_count": 0,
      "outputs": [
        {
          "output_type": "stream",
          "text": [
            "Done!\n"
          ],
          "name": "stdout"
        }
      ]
    },
    {
      "cell_type": "markdown",
      "metadata": {
        "id": "jiuYtOyEp3nN",
        "colab_type": "text"
      },
      "source": [
        "**HELPER FUNCTION**\n"
      ]
    },
    {
      "cell_type": "markdown",
      "metadata": {
        "id": "cryPvWIGXy3E",
        "colab_type": "text"
      },
      "source": [
        "The function print_progress is used to print the amount of videos processed"
      ]
    },
    {
      "cell_type": "code",
      "metadata": {
        "id": "e8m5LDtUwZL6",
        "colab_type": "code",
        "outputId": "3f958017-f9a1-42ef-dfb3-d6695638d127",
        "colab": {
          "base_uri": "https://localhost:8080/",
          "height": 34
        }
      },
      "source": [
        "def print_progress(count, max_count):\n",
        "    # Percentage completion.\n",
        "    pct_complete = count / max_count\n",
        "\n",
        "    # Status-message.\n",
        "    msg = \"\\r- Progress: {0:.1%}\".format(pct_complete)\n",
        "\n",
        "    # Print.\n",
        "    sys.stdout.write(msg)\n",
        "    sys.stdout.flush()\n",
        "\n",
        "print (\"Done!\")"
      ],
      "execution_count": 0,
      "outputs": [
        {
          "output_type": "stream",
          "text": [
            "Done!\n"
          ],
          "name": "stdout"
        }
      ]
    },
    {
      "cell_type": "markdown",
      "metadata": {
        "id": "z6WHsz2eqhSG",
        "colab_type": "text"
      },
      "source": [
        "**DATA LOADING-**\n",
        "The directory to place the video dataset"
      ]
    },
    {
      "cell_type": "code",
      "metadata": {
        "id": "I_EhI1Bgweza",
        "colab_type": "code",
        "outputId": "eeaea7cf-872f-4c68-bcbd-5bc71801c9b9",
        "colab": {
          "base_uri": "https://localhost:8080/",
          "height": 50
        }
      },
      "source": [
        "in_dir = \"data\"\n",
        "in_dir = '/content/drive/My Drive/Colab Notebooks/VIOLENCE_DATASET_2'\n",
        "print(in_dir)\n",
        "print (\"Done!\")"
      ],
      "execution_count": 0,
      "outputs": [
        {
          "output_type": "stream",
          "text": [
            "Done!\n",
            "/content/drive/My Drive/Colab Notebooks/VIOLENCE_DATASET_2\n"
          ],
          "name": "stdout"
        }
      ]
    },
    {
      "cell_type": "markdown",
      "metadata": {
        "id": "UxUdddJRsgnH",
        "colab_type": "text"
      },
      "source": [
        "**DATA AUGMENTATION**\n",
        "\n",
        "\n"
      ]
    },
    {
      "cell_type": "code",
      "metadata": {
        "id": "e78PwQdqwkup",
        "colab_type": "code",
        "outputId": "63707e2a-46f3-4e8f-dda5-056f9da017af",
        "colab": {
          "base_uri": "https://localhost:8080/",
          "height": 34
        }
      },
      "source": [
        "# Frame size  \n",
        "img_size = 224\n",
        "\n",
        "img_size_touple = (img_size, img_size)\n",
        "\n",
        "# Number of channels (RGB)\n",
        "num_channels = 3\n",
        "\n",
        "# Flat frame size\n",
        "img_size_flat = img_size * img_size * num_channels\n",
        "\n",
        "# Number of classes for classification (Violence-No Violence)\n",
        "num_classes = 2\n",
        "\n",
        "# Number of files to train\n",
        "_num_files_train = 1\n",
        "\n",
        "# Number of frames per video\n",
        "_images_per_file = 20\n",
        "\n",
        "# Number of frames per training set\n",
        "_num_images_train = _num_files_train * _images_per_file\n",
        "\n",
        "# Video extension\n",
        "video_exts = \".mp4\"\n",
        "\n",
        "print (\"Done!\")"
      ],
      "execution_count": 0,
      "outputs": [
        {
          "output_type": "stream",
          "text": [
            "Done!\n"
          ],
          "name": "stdout"
        }
      ]
    },
    {
      "cell_type": "markdown",
      "metadata": {
        "id": "6cUpXo6DtSzO",
        "colab_type": "text"
      },
      "source": [
        "\n",
        "**HELPER FUNCTION FOR ABSTRACTING VIDEO FRAMES**\n"
      ]
    },
    {
      "cell_type": "markdown",
      "metadata": {
        "id": "nkus-Tves98z",
        "colab_type": "text"
      },
      "source": [
        "Function to get 20 frames from a video file and convert the frame to a suitable format for the MobileNet Model."
      ]
    },
    {
      "cell_type": "code",
      "metadata": {
        "id": "BSbp72J7wk8G",
        "colab_type": "code",
        "outputId": "5ba2c5f7-3b03-44a4-ab38-4f47ab0aef13",
        "colab": {
          "base_uri": "https://localhost:8080/",
          "height": 34
        }
      },
      "source": [
        "def get_frames(current_dir, file_name):\n",
        "    \n",
        "    in_file = os.path.join(current_dir, file_name)\n",
        "    \n",
        "    images = []\n",
        "    \n",
        "    vidcap = cv2.VideoCapture(in_file)\n",
        "    \n",
        "    success,image = vidcap.read()\n",
        "        \n",
        "    count = 0\n",
        "\n",
        "    while count<_images_per_file:\n",
        "                \n",
        "        RGB_img = cv2.cvtColor(image, cv2.COLOR_BGR2RGB)\n",
        "    \n",
        "        res = cv2.resize(RGB_img, dsize=(img_size, img_size),\n",
        "                                 interpolation=cv2.INTER_CUBIC)\n",
        "    \n",
        "        images.append(res)\n",
        "    \n",
        "        success,image = vidcap.read()\n",
        "    \n",
        "        count += 1\n",
        "        \n",
        "    resul = np.array(images)\n",
        "    \n",
        "    resul = (resul / 255.).astype(np.float16)\n",
        "        \n",
        "    return resul\n",
        "\n",
        "print (\"Done!\")"
      ],
      "execution_count": 0,
      "outputs": [
        {
          "output_type": "stream",
          "text": [
            "Done!\n"
          ],
          "name": "stdout"
        }
      ]
    },
    {
      "cell_type": "markdown",
      "metadata": {
        "id": "EzyBfyddxae9",
        "colab_type": "text"
      },
      "source": [
        "**HELPER FUNCTION FOR DATA ANNOTATION**"
      ]
    },
    {
      "cell_type": "code",
      "metadata": {
        "id": "PMEuFNQwyW3B",
        "colab_type": "code",
        "outputId": "9d93cf48-c4d4-416c-f62d-f9f276143e3d",
        "colab": {
          "base_uri": "https://localhost:8080/",
          "height": 34
        }
      },
      "source": [
        "def label_video_names(in_dir):\n",
        "    \n",
        "    # list containing video names\n",
        "    names = []\n",
        "    # list containin video labels [1, 0] if it has violence and [0, 1] if not violence\n",
        "    labels = []   \n",
        "   \n",
        "    for current_dir, dir_names,file_names in os.walk(in_dir):\n",
        "        \n",
        "        for file_name in file_names:\n",
        "            \n",
        "            if file_name[0:1] == 'V':\n",
        "                labels.append([1,0])\n",
        "                names.append(file_name)\n",
        "            elif file_name[0:2] == 'NV':\n",
        "                labels.append([0,1])\n",
        "                names.append(file_name)\n",
        "                     \n",
        "    #Dictionary       \n",
        "    c = list(zip(names,labels))\n",
        "    # Suffle the data (names and labels)\n",
        "    shuffle(c)\n",
        "    \n",
        "    names, labels = zip(*c)\n",
        "            \n",
        "    return names, labels\n",
        "\n",
        "print (\"Done!\")"
      ],
      "execution_count": 0,
      "outputs": [
        {
          "output_type": "stream",
          "text": [
            "Done!\n"
          ],
          "name": "stdout"
        }
      ]
    },
    {
      "cell_type": "code",
      "metadata": {
        "id": "GBMZCRYlyW7O",
        "colab_type": "code",
        "outputId": "c663d820-71e6-4041-ae8d-c6fc9110f791",
        "colab": {
          "base_uri": "https://localhost:8080/",
          "height": 34
        }
      },
      "source": [
        "#DATA ANNOTATION\n",
        "names, labels = label_video_names(in_dir)\n",
        "\n",
        "print (\"Done!\")"
      ],
      "execution_count": 0,
      "outputs": [
        {
          "output_type": "stream",
          "text": [
            "Done!\n"
          ],
          "name": "stdout"
        }
      ]
    },
    {
      "cell_type": "code",
      "metadata": {
        "id": "iuSstAi1yW80",
        "colab_type": "code",
        "cellView": "both",
        "colab": {}
      },
      "source": [
        "print(labels)\n",
        "print(names)\n",
        "print(len(names))"
      ],
      "execution_count": 0,
      "outputs": []
    },
    {
      "cell_type": "markdown",
      "metadata": {
        "id": "dasb456n1JtA",
        "colab_type": "text"
      },
      "source": [
        "**PRE-TRAINED MODEL: MobileNet**"
      ]
    },
    {
      "cell_type": "code",
      "metadata": {
        "id": "8JU-KXdgWYsj",
        "colab_type": "code",
        "colab": {}
      },
      "source": [
        "image_model = MobileNet(include_top=True, weights='imagenet')"
      ],
      "execution_count": 0,
      "outputs": []
    },
    {
      "cell_type": "markdown",
      "metadata": {
        "id": "j5JoZb631n9g",
        "colab_type": "text"
      },
      "source": [
        "**MODEL SUMMARY**"
      ]
    },
    {
      "cell_type": "code",
      "metadata": {
        "id": "vAS1qTYGWYnN",
        "colab_type": "code",
        "outputId": "1c704a1f-0f84-446a-92e0-f0c5052d693e",
        "colab": {
          "base_uri": "https://localhost:8080/",
          "height": 1000
        }
      },
      "source": [
        "image_model.summary()"
      ],
      "execution_count": 0,
      "outputs": [
        {
          "output_type": "stream",
          "text": [
            "Model: \"mobilenet_1.00_224\"\n",
            "_________________________________________________________________\n",
            "Layer (type)                 Output Shape              Param #   \n",
            "=================================================================\n",
            "input_2 (InputLayer)         (None, 224, 224, 3)       0         \n",
            "_________________________________________________________________\n",
            "conv1_pad (ZeroPadding2D)    (None, 225, 225, 3)       0         \n",
            "_________________________________________________________________\n",
            "conv1 (Conv2D)               (None, 112, 112, 32)      864       \n",
            "_________________________________________________________________\n",
            "conv1_bn (BatchNormalization (None, 112, 112, 32)      128       \n",
            "_________________________________________________________________\n",
            "conv1_relu (ReLU)            (None, 112, 112, 32)      0         \n",
            "_________________________________________________________________\n",
            "conv_dw_1 (DepthwiseConv2D)  (None, 112, 112, 32)      288       \n",
            "_________________________________________________________________\n",
            "conv_dw_1_bn (BatchNormaliza (None, 112, 112, 32)      128       \n",
            "_________________________________________________________________\n",
            "conv_dw_1_relu (ReLU)        (None, 112, 112, 32)      0         \n",
            "_________________________________________________________________\n",
            "conv_pw_1 (Conv2D)           (None, 112, 112, 64)      2048      \n",
            "_________________________________________________________________\n",
            "conv_pw_1_bn (BatchNormaliza (None, 112, 112, 64)      256       \n",
            "_________________________________________________________________\n",
            "conv_pw_1_relu (ReLU)        (None, 112, 112, 64)      0         \n",
            "_________________________________________________________________\n",
            "conv_pad_2 (ZeroPadding2D)   (None, 113, 113, 64)      0         \n",
            "_________________________________________________________________\n",
            "conv_dw_2 (DepthwiseConv2D)  (None, 56, 56, 64)        576       \n",
            "_________________________________________________________________\n",
            "conv_dw_2_bn (BatchNormaliza (None, 56, 56, 64)        256       \n",
            "_________________________________________________________________\n",
            "conv_dw_2_relu (ReLU)        (None, 56, 56, 64)        0         \n",
            "_________________________________________________________________\n",
            "conv_pw_2 (Conv2D)           (None, 56, 56, 128)       8192      \n",
            "_________________________________________________________________\n",
            "conv_pw_2_bn (BatchNormaliza (None, 56, 56, 128)       512       \n",
            "_________________________________________________________________\n",
            "conv_pw_2_relu (ReLU)        (None, 56, 56, 128)       0         \n",
            "_________________________________________________________________\n",
            "conv_dw_3 (DepthwiseConv2D)  (None, 56, 56, 128)       1152      \n",
            "_________________________________________________________________\n",
            "conv_dw_3_bn (BatchNormaliza (None, 56, 56, 128)       512       \n",
            "_________________________________________________________________\n",
            "conv_dw_3_relu (ReLU)        (None, 56, 56, 128)       0         \n",
            "_________________________________________________________________\n",
            "conv_pw_3 (Conv2D)           (None, 56, 56, 128)       16384     \n",
            "_________________________________________________________________\n",
            "conv_pw_3_bn (BatchNormaliza (None, 56, 56, 128)       512       \n",
            "_________________________________________________________________\n",
            "conv_pw_3_relu (ReLU)        (None, 56, 56, 128)       0         \n",
            "_________________________________________________________________\n",
            "conv_pad_4 (ZeroPadding2D)   (None, 57, 57, 128)       0         \n",
            "_________________________________________________________________\n",
            "conv_dw_4 (DepthwiseConv2D)  (None, 28, 28, 128)       1152      \n",
            "_________________________________________________________________\n",
            "conv_dw_4_bn (BatchNormaliza (None, 28, 28, 128)       512       \n",
            "_________________________________________________________________\n",
            "conv_dw_4_relu (ReLU)        (None, 28, 28, 128)       0         \n",
            "_________________________________________________________________\n",
            "conv_pw_4 (Conv2D)           (None, 28, 28, 256)       32768     \n",
            "_________________________________________________________________\n",
            "conv_pw_4_bn (BatchNormaliza (None, 28, 28, 256)       1024      \n",
            "_________________________________________________________________\n",
            "conv_pw_4_relu (ReLU)        (None, 28, 28, 256)       0         \n",
            "_________________________________________________________________\n",
            "conv_dw_5 (DepthwiseConv2D)  (None, 28, 28, 256)       2304      \n",
            "_________________________________________________________________\n",
            "conv_dw_5_bn (BatchNormaliza (None, 28, 28, 256)       1024      \n",
            "_________________________________________________________________\n",
            "conv_dw_5_relu (ReLU)        (None, 28, 28, 256)       0         \n",
            "_________________________________________________________________\n",
            "conv_pw_5 (Conv2D)           (None, 28, 28, 256)       65536     \n",
            "_________________________________________________________________\n",
            "conv_pw_5_bn (BatchNormaliza (None, 28, 28, 256)       1024      \n",
            "_________________________________________________________________\n",
            "conv_pw_5_relu (ReLU)        (None, 28, 28, 256)       0         \n",
            "_________________________________________________________________\n",
            "conv_pad_6 (ZeroPadding2D)   (None, 29, 29, 256)       0         \n",
            "_________________________________________________________________\n",
            "conv_dw_6 (DepthwiseConv2D)  (None, 14, 14, 256)       2304      \n",
            "_________________________________________________________________\n",
            "conv_dw_6_bn (BatchNormaliza (None, 14, 14, 256)       1024      \n",
            "_________________________________________________________________\n",
            "conv_dw_6_relu (ReLU)        (None, 14, 14, 256)       0         \n",
            "_________________________________________________________________\n",
            "conv_pw_6 (Conv2D)           (None, 14, 14, 512)       131072    \n",
            "_________________________________________________________________\n",
            "conv_pw_6_bn (BatchNormaliza (None, 14, 14, 512)       2048      \n",
            "_________________________________________________________________\n",
            "conv_pw_6_relu (ReLU)        (None, 14, 14, 512)       0         \n",
            "_________________________________________________________________\n",
            "conv_dw_7 (DepthwiseConv2D)  (None, 14, 14, 512)       4608      \n",
            "_________________________________________________________________\n",
            "conv_dw_7_bn (BatchNormaliza (None, 14, 14, 512)       2048      \n",
            "_________________________________________________________________\n",
            "conv_dw_7_relu (ReLU)        (None, 14, 14, 512)       0         \n",
            "_________________________________________________________________\n",
            "conv_pw_7 (Conv2D)           (None, 14, 14, 512)       262144    \n",
            "_________________________________________________________________\n",
            "conv_pw_7_bn (BatchNormaliza (None, 14, 14, 512)       2048      \n",
            "_________________________________________________________________\n",
            "conv_pw_7_relu (ReLU)        (None, 14, 14, 512)       0         \n",
            "_________________________________________________________________\n",
            "conv_dw_8 (DepthwiseConv2D)  (None, 14, 14, 512)       4608      \n",
            "_________________________________________________________________\n",
            "conv_dw_8_bn (BatchNormaliza (None, 14, 14, 512)       2048      \n",
            "_________________________________________________________________\n",
            "conv_dw_8_relu (ReLU)        (None, 14, 14, 512)       0         \n",
            "_________________________________________________________________\n",
            "conv_pw_8 (Conv2D)           (None, 14, 14, 512)       262144    \n",
            "_________________________________________________________________\n",
            "conv_pw_8_bn (BatchNormaliza (None, 14, 14, 512)       2048      \n",
            "_________________________________________________________________\n",
            "conv_pw_8_relu (ReLU)        (None, 14, 14, 512)       0         \n",
            "_________________________________________________________________\n",
            "conv_dw_9 (DepthwiseConv2D)  (None, 14, 14, 512)       4608      \n",
            "_________________________________________________________________\n",
            "conv_dw_9_bn (BatchNormaliza (None, 14, 14, 512)       2048      \n",
            "_________________________________________________________________\n",
            "conv_dw_9_relu (ReLU)        (None, 14, 14, 512)       0         \n",
            "_________________________________________________________________\n",
            "conv_pw_9 (Conv2D)           (None, 14, 14, 512)       262144    \n",
            "_________________________________________________________________\n",
            "conv_pw_9_bn (BatchNormaliza (None, 14, 14, 512)       2048      \n",
            "_________________________________________________________________\n",
            "conv_pw_9_relu (ReLU)        (None, 14, 14, 512)       0         \n",
            "_________________________________________________________________\n",
            "conv_dw_10 (DepthwiseConv2D) (None, 14, 14, 512)       4608      \n",
            "_________________________________________________________________\n",
            "conv_dw_10_bn (BatchNormaliz (None, 14, 14, 512)       2048      \n",
            "_________________________________________________________________\n",
            "conv_dw_10_relu (ReLU)       (None, 14, 14, 512)       0         \n",
            "_________________________________________________________________\n",
            "conv_pw_10 (Conv2D)          (None, 14, 14, 512)       262144    \n",
            "_________________________________________________________________\n",
            "conv_pw_10_bn (BatchNormaliz (None, 14, 14, 512)       2048      \n",
            "_________________________________________________________________\n",
            "conv_pw_10_relu (ReLU)       (None, 14, 14, 512)       0         \n",
            "_________________________________________________________________\n",
            "conv_dw_11 (DepthwiseConv2D) (None, 14, 14, 512)       4608      \n",
            "_________________________________________________________________\n",
            "conv_dw_11_bn (BatchNormaliz (None, 14, 14, 512)       2048      \n",
            "_________________________________________________________________\n",
            "conv_dw_11_relu (ReLU)       (None, 14, 14, 512)       0         \n",
            "_________________________________________________________________\n",
            "conv_pw_11 (Conv2D)          (None, 14, 14, 512)       262144    \n",
            "_________________________________________________________________\n",
            "conv_pw_11_bn (BatchNormaliz (None, 14, 14, 512)       2048      \n",
            "_________________________________________________________________\n",
            "conv_pw_11_relu (ReLU)       (None, 14, 14, 512)       0         \n",
            "_________________________________________________________________\n",
            "conv_pad_12 (ZeroPadding2D)  (None, 15, 15, 512)       0         \n",
            "_________________________________________________________________\n",
            "conv_dw_12 (DepthwiseConv2D) (None, 7, 7, 512)         4608      \n",
            "_________________________________________________________________\n",
            "conv_dw_12_bn (BatchNormaliz (None, 7, 7, 512)         2048      \n",
            "_________________________________________________________________\n",
            "conv_dw_12_relu (ReLU)       (None, 7, 7, 512)         0         \n",
            "_________________________________________________________________\n",
            "conv_pw_12 (Conv2D)          (None, 7, 7, 1024)        524288    \n",
            "_________________________________________________________________\n",
            "conv_pw_12_bn (BatchNormaliz (None, 7, 7, 1024)        4096      \n",
            "_________________________________________________________________\n",
            "conv_pw_12_relu (ReLU)       (None, 7, 7, 1024)        0         \n",
            "_________________________________________________________________\n",
            "conv_dw_13 (DepthwiseConv2D) (None, 7, 7, 1024)        9216      \n",
            "_________________________________________________________________\n",
            "conv_dw_13_bn (BatchNormaliz (None, 7, 7, 1024)        4096      \n",
            "_________________________________________________________________\n",
            "conv_dw_13_relu (ReLU)       (None, 7, 7, 1024)        0         \n",
            "_________________________________________________________________\n",
            "conv_pw_13 (Conv2D)          (None, 7, 7, 1024)        1048576   \n",
            "_________________________________________________________________\n",
            "conv_pw_13_bn (BatchNormaliz (None, 7, 7, 1024)        4096      \n",
            "_________________________________________________________________\n",
            "conv_pw_13_relu (ReLU)       (None, 7, 7, 1024)        0         \n",
            "_________________________________________________________________\n",
            "global_average_pooling2d_2 ( (None, 1024)              0         \n",
            "_________________________________________________________________\n",
            "reshape_1 (Reshape)          (None, 1, 1, 1024)        0         \n",
            "_________________________________________________________________\n",
            "dropout (Dropout)            (None, 1, 1, 1024)        0         \n",
            "_________________________________________________________________\n",
            "conv_preds (Conv2D)          (None, 1, 1, 1000)        1025000   \n",
            "_________________________________________________________________\n",
            "reshape_2 (Reshape)          (None, 1000)              0         \n",
            "_________________________________________________________________\n",
            "act_softmax (Activation)     (None, 1000)              0         \n",
            "=================================================================\n",
            "Total params: 4,253,864\n",
            "Trainable params: 4,231,976\n",
            "Non-trainable params: 21,888\n",
            "_________________________________________________________________\n"
          ],
          "name": "stdout"
        }
      ]
    },
    {
      "cell_type": "code",
      "metadata": {
        "id": "2-iPePNGWYfY",
        "colab_type": "code",
        "outputId": "6015c0fe-d722-4fae-e748-063a91d89ca6",
        "colab": {
          "base_uri": "https://localhost:8080/",
          "height": 34
        }
      },
      "source": [
        "input_shape = image_model.layers[0].output_shape[1:3]\n",
        "input_shape"
      ],
      "execution_count": 0,
      "outputs": [
        {
          "output_type": "execute_result",
          "data": {
            "text/plain": [
              "(224, 224)"
            ]
          },
          "metadata": {
            "tags": []
          },
          "execution_count": 76
        }
      ]
    },
    {
      "cell_type": "markdown",
      "metadata": {
        "id": "SfQuSv88ExP9",
        "colab_type": "text"
      },
      "source": [
        "**MobileNet MODEL FLOWCHART**"
      ]
    },
    {
      "cell_type": "markdown",
      "metadata": {
        "id": "7AHtfA1r5Rvi",
        "colab_type": "text"
      },
      "source": [
        "The flow chart explains how the data flows when using the ImageNet model for Transfer Learning. We input and process 20 labeled video frames sequence in batch with the MobileNet model. Instead of selecting the final layer, just prior to the final classification layer of the model is selected. The so-called Transfer Values are saved to a cache file.With the resulting transfer-values saved to a cache file and all the videos been processed through the model, now the transfer-values are used as the input to LSTM neural network. The LSTM network is trained using the classes from the datasets (Violence, No-Violence)."
      ]
    },
    {
      "cell_type": "code",
      "metadata": {
        "id": "5hFqBL2DYNfb",
        "colab_type": "code",
        "outputId": "a40d60a8-7547-4671-c84b-c2b0476f13f5",
        "colab": {
          "base_uri": "https://localhost:8080/",
          "height": 50
        }
      },
      "source": [
        "# We will use the output of the layer prior to the final classification-layer\n",
        "transfer_layer = image_model.get_layer('reshape_2')\n",
        "\n",
        "image_model_transfer = Model(inputs=image_model.input,\n",
        "                             outputs=transfer_layer.output)\n",
        "\n",
        "transfer_values_size = K.int_shape(transfer_layer.output)[1]\n",
        "\n",
        "\n",
        "print(\"The input of the MobileNet net have dimensions:\",K.int_shape(image_model.input)[1:3])\n",
        "\n",
        "print(\"The output of the selecter layer of MobileNet net have dimensions: \", transfer_values_size)"
      ],
      "execution_count": 0,
      "outputs": [
        {
          "output_type": "stream",
          "text": [
            "The input of the MobileNet net have dimensions: (224, 224)\n",
            "The output of the selecter layer of MobileNet net have dimensions:  1000\n"
          ],
          "name": "stdout"
        }
      ]
    },
    {
      "cell_type": "markdown",
      "metadata": {
        "id": "B7AqrwRdKtGO",
        "colab_type": "text"
      },
      "source": [
        "**FUNCTION TO GET TRANSFER VALUES**"
      ]
    },
    {
      "cell_type": "code",
      "metadata": {
        "id": "qVUAmKDiYNsA",
        "colab_type": "code",
        "colab": {}
      },
      "source": [
        "def get_transfer_values(current_dir, file_name):\n",
        "    \n",
        "    # Pre-allocate input-batch-array for images.\n",
        "    shape = (_images_per_file,) + img_size_touple + (3,)\n",
        "    \n",
        "    image_batch = np.zeros(shape=shape, dtype=np.float16)\n",
        "    \n",
        "    image_batch = get_frames(current_dir, file_name)\n",
        "      \n",
        "    # Pre-allocate output-array for transfer-values.\n",
        "    shape = (_images_per_file, transfer_values_size)\n",
        "    transfer_values = np.zeros(shape=shape, dtype=np.float16)\n",
        "\n",
        "    transfer_values = \\\n",
        "            image_model_transfer.predict(image_batch)\n",
        "            \n",
        "    return transfer_values"
      ],
      "execution_count": 0,
      "outputs": []
    },
    {
      "cell_type": "markdown",
      "metadata": {
        "id": "C2L4Ck2vMQi3",
        "colab_type": "text"
      },
      "source": [
        "**GENERATOR THAT PROCESS ONE VIDEO THROUGH MobileNet**"
      ]
    },
    {
      "cell_type": "code",
      "metadata": {
        "id": "ioV30SQoYN0S",
        "colab_type": "code",
        "colab": {}
      },
      "source": [
        "def proces_transfer(vid_names, in_dir, labels):\n",
        "    \n",
        "    count = 0\n",
        "    \n",
        "    tam = len(vid_names)\n",
        "    \n",
        "    # Pre-allocate input-batch-array for images.\n",
        "    shape = (_images_per_file,) + img_size_touple + (3,)\n",
        "    \n",
        "    while count<tam:\n",
        "        \n",
        "        video_name = vid_names[count]\n",
        "        \n",
        "        image_batch = np.zeros(shape=shape, dtype=np.float16)\n",
        "    \n",
        "        image_batch = get_frames(in_dir, video_name)\n",
        "        \n",
        "        shape = (_images_per_file, transfer_values_size)\n",
        "        transfer_values = np.zeros(shape=shape, dtype=np.float16)\n",
        "        \n",
        "        transfer_values = \\\n",
        "            image_model_transfer.predict(image_batch)\n",
        "         \n",
        "        labels1 = labels[count]\n",
        "        \n",
        "        aux = np.ones([20,2])\n",
        "        \n",
        "        labelss = labels1*aux\n",
        "        \n",
        "        yield transfer_values, labelss\n",
        "        \n",
        "        count+=1"
      ],
      "execution_count": 0,
      "outputs": []
    },
    {
      "cell_type": "markdown",
      "metadata": {
        "id": "DveptGDwyOzC",
        "colab_type": "text"
      },
      "source": [
        "**FUNCTION TO SAVE TRANSFER VALUES**"
      ]
    },
    {
      "cell_type": "code",
      "metadata": {
        "id": "WqlD_F62YNyx",
        "colab_type": "code",
        "colab": {}
      },
      "source": [
        "def make_files(n_files):\n",
        "    \n",
        "    gen = proces_transfer(names_training, in_dir, labels_training)\n",
        "\n",
        "    numer = 1\n",
        "\n",
        "    # Read the first chunk to get the column dtypes\n",
        "    chunk = next(gen)\n",
        "\n",
        "    row_count = chunk[0].shape[0]\n",
        "    row_count2 = chunk[1].shape[0]\n",
        "    \n",
        "    with h5py.File('prueba.h5', 'w') as f:\n",
        "    \n",
        "        # Initialize a resizable dataset to hold the output\n",
        "        maxshape = (None,) + chunk[0].shape[1:]\n",
        "        maxshape2 = (None,) + chunk[1].shape[1:]\n",
        "    \n",
        "    \n",
        "        dset = f.create_dataset('data', shape=chunk[0].shape, maxshape=maxshape,\n",
        "                                chunks=chunk[0].shape, dtype=chunk[0].dtype)\n",
        "    \n",
        "        dset2 = f.create_dataset('labels', shape=chunk[1].shape, maxshape=maxshape2,\n",
        "                                 chunks=chunk[1].shape, dtype=chunk[1].dtype)\n",
        "    \n",
        "         # Write the first chunk of rows\n",
        "        dset[:] = chunk[0]\n",
        "        dset2[:] = chunk[1]\n",
        "\n",
        "        for chunk in gen:\n",
        "            \n",
        "            if numer == n_files:\n",
        "            \n",
        "                break\n",
        "\n",
        "            # Resize the dataset to accommodate the next chunk of rows\n",
        "            dset.resize(row_count + chunk[0].shape[0], axis=0)\n",
        "            dset2.resize(row_count2 + chunk[1].shape[0], axis=0)\n",
        "\n",
        "             # Write the next chunk\n",
        "            dset[row_count:] = chunk[0]\n",
        "            dset2[row_count:] = chunk[1]\n",
        "\n",
        "            # Increment the row count\n",
        "            row_count += chunk[0].shape[0]\n",
        "            row_count2 += chunk[1].shape[0]\n",
        "            \n",
        "            print_progress(numer, n_files)\n",
        "        \n",
        "            numer += 1"
      ],
      "execution_count": 0,
      "outputs": []
    },
    {
      "cell_type": "code",
      "metadata": {
        "id": "5pydsI2KY_iz",
        "colab_type": "code",
        "colab": {}
      },
      "source": [
        "def make_files_test(n_files):\n",
        "    \n",
        "    gen = proces_transfer(names_test, in_dir, labels_test)\n",
        "\n",
        "    numer = 1\n",
        "\n",
        "    # Read the first chunk to get the column dtypes\n",
        "    chunk = next(gen)\n",
        "\n",
        "    row_count = chunk[0].shape[0]\n",
        "    row_count2 = chunk[1].shape[0]\n",
        "    \n",
        "    with h5py.File('pruebavalidation.h5', 'w') as f:\n",
        "    \n",
        "        # Initialize a resizable dataset to hold the output\n",
        "        maxshape = (None,) + chunk[0].shape[1:]\n",
        "        maxshape2 = (None,) + chunk[1].shape[1:]\n",
        "    \n",
        "    \n",
        "        dset = f.create_dataset('data', shape=chunk[0].shape, maxshape=maxshape,\n",
        "                                chunks=chunk[0].shape, dtype=chunk[0].dtype)\n",
        "    \n",
        "        dset2 = f.create_dataset('labels', shape=chunk[1].shape, maxshape=maxshape2,\n",
        "                                 chunks=chunk[1].shape, dtype=chunk[1].dtype)\n",
        "    \n",
        "         # Write the first chunk of rows\n",
        "        dset[:] = chunk[0]\n",
        "        dset2[:] = chunk[1]\n",
        "\n",
        "        for chunk in gen:\n",
        "            \n",
        "            if numer == n_files:\n",
        "            \n",
        "                break\n",
        "\n",
        "            # Resize the dataset to accommodate the next chunk of rows\n",
        "            dset.resize(row_count + chunk[0].shape[0], axis=0)\n",
        "            dset2.resize(row_count2 + chunk[1].shape[0], axis=0)\n",
        "\n",
        "            # Write the next chunk\n",
        "            dset[row_count:] = chunk[0]\n",
        "            dset2[row_count:] = chunk[1]\n",
        "\n",
        "            # Increment the row count\n",
        "            row_count += chunk[0].shape[0]\n",
        "            row_count2 += chunk[1].shape[0]\n",
        "            \n",
        "            print_progress(numer, n_files)\n",
        "        \n",
        "            numer += 1"
      ],
      "execution_count": 0,
      "outputs": []
    },
    {
      "cell_type": "markdown",
      "metadata": {
        "id": "qDpx6JmuPSSf",
        "colab_type": "text"
      },
      "source": [
        "**DATASET SPLITING**"
      ]
    },
    {
      "cell_type": "code",
      "metadata": {
        "id": "kfZQsEogY_p8",
        "colab_type": "code",
        "colab": {}
      },
      "source": [
        "training_set = int(len(names)*0.9)\n",
        "test_set = int(len(names)*0.1)\n",
        "\n",
        "names_training = names[0:training_set]\n",
        "names_test = names[training_set:]\n",
        "\n",
        "labels_training = labels[0:training_set]\n",
        "labels_test = labels[training_set:]"
      ],
      "execution_count": 0,
      "outputs": []
    },
    {
      "cell_type": "markdown",
      "metadata": {
        "id": "4hVXSs5R1Zen",
        "colab_type": "text"
      },
      "source": [
        "**SAVING THE TRANSFER VALUES IN DISK BY PROCESSING ALL VIDEO FRAMES THROUGH MOBILENET**"
      ]
    },
    {
      "cell_type": "code",
      "metadata": {
        "id": "pvfSGuqeY_xh",
        "colab_type": "code",
        "outputId": "533df8d1-102d-45a5-d971-26b995f723f6",
        "colab": {
          "base_uri": "https://localhost:8080/",
          "height": 34
        }
      },
      "source": [
        "make_files(training_set)"
      ],
      "execution_count": 0,
      "outputs": [
        {
          "output_type": "stream",
          "text": [
            "- Progress: 99.9%"
          ],
          "name": "stdout"
        }
      ]
    },
    {
      "cell_type": "code",
      "metadata": {
        "id": "9ry7MecRY_wd",
        "colab_type": "code",
        "outputId": "4363e90b-ecb8-479b-875c-3e5494dba4f6",
        "colab": {
          "base_uri": "https://localhost:8080/",
          "height": 34
        }
      },
      "source": [
        "make_files_test(test_set)"
      ],
      "execution_count": 0,
      "outputs": [
        {
          "output_type": "stream",
          "text": [
            "- Progress: 99.5%"
          ],
          "name": "stdout"
        }
      ]
    },
    {
      "cell_type": "markdown",
      "metadata": {
        "id": "t_8iHSEh1Gd8",
        "colab_type": "text"
      },
      "source": [
        "**LOADING THE CACHED TRANSFER VALUES INTO MEMORY**"
      ]
    },
    {
      "cell_type": "markdown",
      "metadata": {
        "id": "h7dfCZXr1GGV",
        "colab_type": "text"
      },
      "source": [
        "We have to load those transfer values into memory in order to train the LSTM net.Training the LSTM in different ways in order to see which way gets the best accuracy, if you didn't save the transfer values into disk you would have to process the whole videos each training. It's very time consuming processing."
      ]
    },
    {
      "cell_type": "code",
      "metadata": {
        "id": "Wn8szJJwZuVU",
        "colab_type": "code",
        "colab": {}
      },
      "source": [
        "\n",
        "def process_alldata_training():\n",
        "    \n",
        "    joint_transfer=[]\n",
        "    frames_num=20\n",
        "    count = 0\n",
        "    \n",
        "    with h5py.File('prueba.h5', 'r') as f:\n",
        "            \n",
        "        X_batch = f['data'][:]\n",
        "        y_batch = f['labels'][:]\n",
        "\n",
        "    for i in range(int(len(X_batch)/frames_num)):\n",
        "        inc = count+frames_num\n",
        "        joint_transfer.append([X_batch[count:inc],y_batch[count]])\n",
        "        count =inc\n",
        "        \n",
        "    data =[]\n",
        "    target=[]\n",
        "    \n",
        "    for i in joint_transfer:\n",
        "        data.append(i[0])\n",
        "        target.append(np.array(i[1]))\n",
        "        \n",
        "    return data, target"
      ],
      "execution_count": 0,
      "outputs": []
    },
    {
      "cell_type": "code",
      "metadata": {
        "id": "pwx-uY2_Zubm",
        "colab_type": "code",
        "colab": {}
      },
      "source": [
        "\n",
        "def process_alldata_test():\n",
        "    \n",
        "    joint_transfer=[]\n",
        "    frames_num=20\n",
        "    count = 0\n",
        "    \n",
        "    with h5py.File('pruebavalidation.h5', 'r') as f:\n",
        "            \n",
        "        X_batch = f['data'][:]\n",
        "        y_batch = f['labels'][:]\n",
        "\n",
        "    for i in range(int(len(X_batch)/frames_num)):\n",
        "        inc = count+frames_num\n",
        "        joint_transfer.append([X_batch[count:inc],y_batch[count]])\n",
        "        count =inc\n",
        "        \n",
        "    data =[]\n",
        "    target=[]\n",
        "    \n",
        "    for i in joint_transfer:\n",
        "        data.append(i[0])\n",
        "        target.append(np.array(i[1]))\n",
        "        \n",
        "    return data, target"
      ],
      "execution_count": 0,
      "outputs": []
    },
    {
      "cell_type": "code",
      "metadata": {
        "id": "1LPvcxOwZuaH",
        "colab_type": "code",
        "colab": {}
      },
      "source": [
        "data, target = process_alldata_training()\n"
      ],
      "execution_count": 0,
      "outputs": []
    },
    {
      "cell_type": "code",
      "metadata": {
        "id": "IqnSNC56ZuTZ",
        "colab_type": "code",
        "colab": {}
      },
      "source": [
        "data_test, target_test = process_alldata_test()"
      ],
      "execution_count": 0,
      "outputs": []
    },
    {
      "cell_type": "markdown",
      "metadata": {
        "id": "yg2s9Ck6WSXF",
        "colab_type": "text"
      },
      "source": [
        "**LSTM ARCHITECTURE**"
      ]
    },
    {
      "cell_type": "markdown",
      "metadata": {
        "id": "fkU-sFYa_vOM",
        "colab_type": "text"
      },
      "source": [
        "In LSTM architecture we take into account the dimensions of the transfer values."
      ]
    },
    {
      "cell_type": "code",
      "metadata": {
        "id": "BVvGD98ZZ_SV",
        "colab_type": "code",
        "outputId": "c277a78d-f5dc-4d1e-9d62-8c05276fb8ab",
        "colab": {
          "base_uri": "https://localhost:8080/",
          "height": 403
        }
      },
      "source": [
        "from keras.optimizers import adam,SGD,RMSprop\n",
        "chunk_size = 1000\n",
        "n_chunks = 20\n",
        "rnn_size = 512\n",
        "\n",
        "model = Sequential()\n",
        "model.add(LSTM(rnn_size, input_shape=(n_chunks, chunk_size)))\n",
        "model.add(Dense(1024))\n",
        "model.add(Activation('relu'))\n",
        "model.add(Dense(50))\n",
        "model.add(Activation('sigmoid'))\n",
        "model.add(Dense(2))\n",
        "model.add(Activation('softmax'))\n",
        "print(model.summary())\n",
        "\n",
        "model.compile(loss='mean_squared_error', optimizer='adam' ,metrics=['accuracy'])"
      ],
      "execution_count": 0,
      "outputs": [
        {
          "output_type": "stream",
          "text": [
            "Model: \"sequential_4\"\n",
            "_________________________________________________________________\n",
            "Layer (type)                 Output Shape              Param #   \n",
            "=================================================================\n",
            "lstm_4 (LSTM)                (None, 512)               3098624   \n",
            "_________________________________________________________________\n",
            "dense_10 (Dense)             (None, 1024)              525312    \n",
            "_________________________________________________________________\n",
            "activation_10 (Activation)   (None, 1024)              0         \n",
            "_________________________________________________________________\n",
            "dense_11 (Dense)             (None, 50)                51250     \n",
            "_________________________________________________________________\n",
            "activation_11 (Activation)   (None, 50)                0         \n",
            "_________________________________________________________________\n",
            "dense_12 (Dense)             (None, 2)                 102       \n",
            "_________________________________________________________________\n",
            "activation_12 (Activation)   (None, 2)                 0         \n",
            "=================================================================\n",
            "Total params: 3,675,288\n",
            "Trainable params: 3,675,288\n",
            "Non-trainable params: 0\n",
            "_________________________________________________________________\n",
            "None\n"
          ],
          "name": "stdout"
        }
      ]
    },
    {
      "cell_type": "code",
      "metadata": {
        "id": "pcz2uiulZ_hZ",
        "colab_type": "code",
        "outputId": "52a337f0-70f4-446d-b630-691c93039b7f",
        "colab": {
          "base_uri": "https://localhost:8080/",
          "height": 1000
        }
      },
      "source": [
        "epoch = 100\n",
        "batchS = 500\n",
        "\n",
        "history = model.fit(np.array(data[0:1750]), np.array(target[0:1750]), epochs=epoch,\n",
        "                    validation_data=(np.array(data[1750:]), np.array(target[1750:])), \n",
        "                    batch_size=batchS, verbose=2)"
      ],
      "execution_count": 0,
      "outputs": [
        {
          "output_type": "stream",
          "text": [
            "Train on 1750 samples, validate on 55 samples\n",
            "Epoch 1/100\n",
            " - 1s - loss: 0.2304 - accuracy: 0.6349 - val_loss: 0.1111 - val_accuracy: 0.8545\n",
            "Epoch 2/100\n",
            " - 0s - loss: 0.0985 - accuracy: 0.8674 - val_loss: 0.0361 - val_accuracy: 0.9818\n",
            "Epoch 3/100\n",
            " - 0s - loss: 0.0525 - accuracy: 0.9314 - val_loss: 0.0434 - val_accuracy: 0.9455\n",
            "Epoch 4/100\n",
            " - 0s - loss: 0.0316 - accuracy: 0.9651 - val_loss: 0.0235 - val_accuracy: 0.9818\n",
            "Epoch 5/100\n",
            " - 0s - loss: 0.0196 - accuracy: 0.9794 - val_loss: 0.0231 - val_accuracy: 0.9818\n",
            "Epoch 6/100\n",
            " - 0s - loss: 0.0132 - accuracy: 0.9886 - val_loss: 0.0264 - val_accuracy: 0.9636\n",
            "Epoch 7/100\n",
            " - 0s - loss: 0.0095 - accuracy: 0.9914 - val_loss: 0.0224 - val_accuracy: 0.9818\n",
            "Epoch 8/100\n",
            " - 0s - loss: 0.0074 - accuracy: 0.9931 - val_loss: 0.0190 - val_accuracy: 0.9818\n",
            "Epoch 9/100\n",
            " - 0s - loss: 0.0055 - accuracy: 0.9943 - val_loss: 0.0193 - val_accuracy: 0.9818\n",
            "Epoch 10/100\n",
            " - 0s - loss: 0.0047 - accuracy: 0.9949 - val_loss: 0.0223 - val_accuracy: 0.9818\n",
            "Epoch 11/100\n",
            " - 0s - loss: 0.0030 - accuracy: 0.9971 - val_loss: 0.0245 - val_accuracy: 0.9818\n",
            "Epoch 12/100\n",
            " - 0s - loss: 0.0030 - accuracy: 0.9971 - val_loss: 0.0285 - val_accuracy: 0.9636\n",
            "Epoch 13/100\n",
            " - 0s - loss: 0.0026 - accuracy: 0.9977 - val_loss: 0.0299 - val_accuracy: 0.9636\n",
            "Epoch 14/100\n",
            " - 0s - loss: 0.0024 - accuracy: 0.9977 - val_loss: 0.0215 - val_accuracy: 0.9818\n",
            "Epoch 15/100\n",
            " - 0s - loss: 0.0024 - accuracy: 0.9977 - val_loss: 0.0216 - val_accuracy: 0.9818\n",
            "Epoch 16/100\n",
            " - 0s - loss: 0.0022 - accuracy: 0.9977 - val_loss: 0.0235 - val_accuracy: 0.9818\n",
            "Epoch 17/100\n",
            " - 0s - loss: 0.0013 - accuracy: 0.9989 - val_loss: 0.0220 - val_accuracy: 0.9818\n",
            "Epoch 18/100\n",
            " - 0s - loss: 2.9003e-04 - accuracy: 1.0000 - val_loss: 0.0202 - val_accuracy: 0.9818\n",
            "Epoch 19/100\n",
            " - 0s - loss: 1.6175e-04 - accuracy: 1.0000 - val_loss: 0.0194 - val_accuracy: 0.9818\n",
            "Epoch 20/100\n",
            " - 0s - loss: 1.3298e-04 - accuracy: 1.0000 - val_loss: 0.0197 - val_accuracy: 0.9818\n",
            "Epoch 21/100\n",
            " - 0s - loss: 1.1255e-04 - accuracy: 1.0000 - val_loss: 0.0206 - val_accuracy: 0.9818\n",
            "Epoch 22/100\n",
            " - 0s - loss: 1.0365e-04 - accuracy: 1.0000 - val_loss: 0.0214 - val_accuracy: 0.9818\n",
            "Epoch 23/100\n",
            " - 0s - loss: 9.7375e-05 - accuracy: 1.0000 - val_loss: 0.0218 - val_accuracy: 0.9818\n",
            "Epoch 24/100\n",
            " - 0s - loss: 9.1796e-05 - accuracy: 1.0000 - val_loss: 0.0220 - val_accuracy: 0.9818\n",
            "Epoch 25/100\n",
            " - 0s - loss: 8.6578e-05 - accuracy: 1.0000 - val_loss: 0.0220 - val_accuracy: 0.9818\n",
            "Epoch 26/100\n",
            " - 0s - loss: 8.2627e-05 - accuracy: 1.0000 - val_loss: 0.0221 - val_accuracy: 0.9818\n",
            "Epoch 27/100\n",
            " - 0s - loss: 7.9446e-05 - accuracy: 1.0000 - val_loss: 0.0221 - val_accuracy: 0.9818\n",
            "Epoch 28/100\n",
            " - 0s - loss: 7.6918e-05 - accuracy: 1.0000 - val_loss: 0.0222 - val_accuracy: 0.9818\n",
            "Epoch 29/100\n",
            " - 0s - loss: 7.4657e-05 - accuracy: 1.0000 - val_loss: 0.0224 - val_accuracy: 0.9818\n",
            "Epoch 30/100\n",
            " - 0s - loss: 7.2791e-05 - accuracy: 1.0000 - val_loss: 0.0225 - val_accuracy: 0.9818\n",
            "Epoch 31/100\n",
            " - 0s - loss: 7.1053e-05 - accuracy: 1.0000 - val_loss: 0.0228 - val_accuracy: 0.9818\n",
            "Epoch 32/100\n",
            " - 0s - loss: 6.9536e-05 - accuracy: 1.0000 - val_loss: 0.0231 - val_accuracy: 0.9818\n",
            "Epoch 33/100\n",
            " - 0s - loss: 6.8127e-05 - accuracy: 1.0000 - val_loss: 0.0232 - val_accuracy: 0.9818\n",
            "Epoch 34/100\n",
            " - 0s - loss: 6.6833e-05 - accuracy: 1.0000 - val_loss: 0.0233 - val_accuracy: 0.9636\n",
            "Epoch 35/100\n",
            " - 0s - loss: 6.5649e-05 - accuracy: 1.0000 - val_loss: 0.0234 - val_accuracy: 0.9636\n",
            "Epoch 36/100\n",
            " - 0s - loss: 6.4519e-05 - accuracy: 1.0000 - val_loss: 0.0234 - val_accuracy: 0.9636\n",
            "Epoch 37/100\n",
            " - 0s - loss: 6.3463e-05 - accuracy: 1.0000 - val_loss: 0.0235 - val_accuracy: 0.9636\n",
            "Epoch 38/100\n",
            " - 0s - loss: 6.2449e-05 - accuracy: 1.0000 - val_loss: 0.0235 - val_accuracy: 0.9636\n",
            "Epoch 39/100\n",
            " - 0s - loss: 6.1507e-05 - accuracy: 1.0000 - val_loss: 0.0235 - val_accuracy: 0.9636\n",
            "Epoch 40/100\n",
            " - 0s - loss: 6.0594e-05 - accuracy: 1.0000 - val_loss: 0.0236 - val_accuracy: 0.9636\n",
            "Epoch 41/100\n",
            " - 0s - loss: 5.9744e-05 - accuracy: 1.0000 - val_loss: 0.0236 - val_accuracy: 0.9636\n",
            "Epoch 42/100\n",
            " - 0s - loss: 5.8896e-05 - accuracy: 1.0000 - val_loss: 0.0236 - val_accuracy: 0.9636\n",
            "Epoch 43/100\n",
            " - 0s - loss: 5.8100e-05 - accuracy: 1.0000 - val_loss: 0.0236 - val_accuracy: 0.9636\n",
            "Epoch 44/100\n",
            " - 0s - loss: 5.7338e-05 - accuracy: 1.0000 - val_loss: 0.0236 - val_accuracy: 0.9636\n",
            "Epoch 45/100\n",
            " - 0s - loss: 5.6587e-05 - accuracy: 1.0000 - val_loss: 0.0236 - val_accuracy: 0.9636\n",
            "Epoch 46/100\n",
            " - 0s - loss: 5.5874e-05 - accuracy: 1.0000 - val_loss: 0.0236 - val_accuracy: 0.9636\n",
            "Epoch 47/100\n",
            " - 0s - loss: 5.5184e-05 - accuracy: 1.0000 - val_loss: 0.0237 - val_accuracy: 0.9636\n",
            "Epoch 48/100\n",
            " - 0s - loss: 5.4515e-05 - accuracy: 1.0000 - val_loss: 0.0237 - val_accuracy: 0.9636\n",
            "Epoch 49/100\n",
            " - 0s - loss: 5.3858e-05 - accuracy: 1.0000 - val_loss: 0.0238 - val_accuracy: 0.9636\n",
            "Epoch 50/100\n",
            " - 0s - loss: 5.3237e-05 - accuracy: 1.0000 - val_loss: 0.0238 - val_accuracy: 0.9636\n",
            "Epoch 51/100\n",
            " - 0s - loss: 5.2631e-05 - accuracy: 1.0000 - val_loss: 0.0240 - val_accuracy: 0.9636\n",
            "Epoch 52/100\n",
            " - 0s - loss: 5.2017e-05 - accuracy: 1.0000 - val_loss: 0.0241 - val_accuracy: 0.9636\n",
            "Epoch 53/100\n",
            " - 0s - loss: 5.1441e-05 - accuracy: 1.0000 - val_loss: 0.0241 - val_accuracy: 0.9636\n",
            "Epoch 54/100\n",
            " - 0s - loss: 5.0874e-05 - accuracy: 1.0000 - val_loss: 0.0242 - val_accuracy: 0.9636\n",
            "Epoch 55/100\n",
            " - 0s - loss: 5.0327e-05 - accuracy: 1.0000 - val_loss: 0.0243 - val_accuracy: 0.9636\n",
            "Epoch 56/100\n",
            " - 0s - loss: 4.9787e-05 - accuracy: 1.0000 - val_loss: 0.0244 - val_accuracy: 0.9636\n",
            "Epoch 57/100\n",
            " - 0s - loss: 4.9261e-05 - accuracy: 1.0000 - val_loss: 0.0245 - val_accuracy: 0.9636\n",
            "Epoch 58/100\n",
            " - 0s - loss: 4.8751e-05 - accuracy: 1.0000 - val_loss: 0.0245 - val_accuracy: 0.9636\n",
            "Epoch 59/100\n",
            " - 0s - loss: 4.8247e-05 - accuracy: 1.0000 - val_loss: 0.0246 - val_accuracy: 0.9636\n",
            "Epoch 60/100\n",
            " - 0s - loss: 4.7759e-05 - accuracy: 1.0000 - val_loss: 0.0247 - val_accuracy: 0.9636\n",
            "Epoch 61/100\n",
            " - 0s - loss: 4.7278e-05 - accuracy: 1.0000 - val_loss: 0.0248 - val_accuracy: 0.9636\n",
            "Epoch 62/100\n",
            " - 0s - loss: 4.6808e-05 - accuracy: 1.0000 - val_loss: 0.0249 - val_accuracy: 0.9636\n",
            "Epoch 63/100\n",
            " - 0s - loss: 4.6351e-05 - accuracy: 1.0000 - val_loss: 0.0250 - val_accuracy: 0.9636\n",
            "Epoch 64/100\n",
            " - 0s - loss: 4.5894e-05 - accuracy: 1.0000 - val_loss: 0.0251 - val_accuracy: 0.9636\n",
            "Epoch 65/100\n",
            " - 0s - loss: 4.5454e-05 - accuracy: 1.0000 - val_loss: 0.0251 - val_accuracy: 0.9636\n",
            "Epoch 66/100\n",
            " - 0s - loss: 4.5023e-05 - accuracy: 1.0000 - val_loss: 0.0252 - val_accuracy: 0.9636\n",
            "Epoch 67/100\n",
            " - 0s - loss: 4.4593e-05 - accuracy: 1.0000 - val_loss: 0.0252 - val_accuracy: 0.9636\n",
            "Epoch 68/100\n",
            " - 0s - loss: 4.4179e-05 - accuracy: 1.0000 - val_loss: 0.0252 - val_accuracy: 0.9636\n",
            "Epoch 69/100\n",
            " - 0s - loss: 4.3770e-05 - accuracy: 1.0000 - val_loss: 0.0252 - val_accuracy: 0.9636\n",
            "Epoch 70/100\n",
            " - 0s - loss: 4.3372e-05 - accuracy: 1.0000 - val_loss: 0.0253 - val_accuracy: 0.9636\n",
            "Epoch 71/100\n",
            " - 0s - loss: 4.2973e-05 - accuracy: 1.0000 - val_loss: 0.0253 - val_accuracy: 0.9636\n",
            "Epoch 72/100\n",
            " - 0s - loss: 4.2584e-05 - accuracy: 1.0000 - val_loss: 0.0254 - val_accuracy: 0.9636\n",
            "Epoch 73/100\n",
            " - 0s - loss: 4.2208e-05 - accuracy: 1.0000 - val_loss: 0.0254 - val_accuracy: 0.9636\n",
            "Epoch 74/100\n",
            " - 0s - loss: 4.1832e-05 - accuracy: 1.0000 - val_loss: 0.0255 - val_accuracy: 0.9636\n",
            "Epoch 75/100\n",
            " - 0s - loss: 4.1462e-05 - accuracy: 1.0000 - val_loss: 0.0255 - val_accuracy: 0.9636\n",
            "Epoch 76/100\n",
            " - 0s - loss: 4.1102e-05 - accuracy: 1.0000 - val_loss: 0.0255 - val_accuracy: 0.9636\n",
            "Epoch 77/100\n",
            " - 0s - loss: 4.0743e-05 - accuracy: 1.0000 - val_loss: 0.0256 - val_accuracy: 0.9636\n",
            "Epoch 78/100\n",
            " - 0s - loss: 4.0392e-05 - accuracy: 1.0000 - val_loss: 0.0257 - val_accuracy: 0.9636\n",
            "Epoch 79/100\n",
            " - 0s - loss: 4.0041e-05 - accuracy: 1.0000 - val_loss: 0.0257 - val_accuracy: 0.9636\n",
            "Epoch 80/100\n",
            " - 0s - loss: 3.9704e-05 - accuracy: 1.0000 - val_loss: 0.0258 - val_accuracy: 0.9636\n",
            "Epoch 81/100\n",
            " - 0s - loss: 3.9367e-05 - accuracy: 1.0000 - val_loss: 0.0258 - val_accuracy: 0.9636\n",
            "Epoch 82/100\n",
            " - 0s - loss: 3.9034e-05 - accuracy: 1.0000 - val_loss: 0.0258 - val_accuracy: 0.9636\n",
            "Epoch 83/100\n",
            " - 0s - loss: 3.8707e-05 - accuracy: 1.0000 - val_loss: 0.0259 - val_accuracy: 0.9636\n",
            "Epoch 84/100\n",
            " - 0s - loss: 3.8383e-05 - accuracy: 1.0000 - val_loss: 0.0259 - val_accuracy: 0.9636\n",
            "Epoch 85/100\n",
            " - 0s - loss: 3.8066e-05 - accuracy: 1.0000 - val_loss: 0.0260 - val_accuracy: 0.9636\n",
            "Epoch 86/100\n",
            " - 0s - loss: 3.7750e-05 - accuracy: 1.0000 - val_loss: 0.0260 - val_accuracy: 0.9636\n",
            "Epoch 87/100\n",
            " - 0s - loss: 3.7443e-05 - accuracy: 1.0000 - val_loss: 0.0260 - val_accuracy: 0.9636\n",
            "Epoch 88/100\n",
            " - 0s - loss: 3.7140e-05 - accuracy: 1.0000 - val_loss: 0.0261 - val_accuracy: 0.9636\n",
            "Epoch 89/100\n",
            " - 0s - loss: 3.6838e-05 - accuracy: 1.0000 - val_loss: 0.0261 - val_accuracy: 0.9636\n",
            "Epoch 90/100\n",
            " - 0s - loss: 3.6542e-05 - accuracy: 1.0000 - val_loss: 0.0261 - val_accuracy: 0.9636\n",
            "Epoch 91/100\n",
            " - 0s - loss: 3.6251e-05 - accuracy: 1.0000 - val_loss: 0.0261 - val_accuracy: 0.9636\n",
            "Epoch 92/100\n",
            " - 0s - loss: 3.5964e-05 - accuracy: 1.0000 - val_loss: 0.0261 - val_accuracy: 0.9636\n",
            "Epoch 93/100\n",
            " - 0s - loss: 3.5681e-05 - accuracy: 1.0000 - val_loss: 0.0261 - val_accuracy: 0.9636\n",
            "Epoch 94/100\n",
            " - 0s - loss: 3.5400e-05 - accuracy: 1.0000 - val_loss: 0.0261 - val_accuracy: 0.9636\n",
            "Epoch 95/100\n",
            " - 0s - loss: 3.5123e-05 - accuracy: 1.0000 - val_loss: 0.0260 - val_accuracy: 0.9636\n",
            "Epoch 96/100\n",
            " - 0s - loss: 3.4852e-05 - accuracy: 1.0000 - val_loss: 0.0261 - val_accuracy: 0.9636\n",
            "Epoch 97/100\n",
            " - 0s - loss: 3.4582e-05 - accuracy: 1.0000 - val_loss: 0.0261 - val_accuracy: 0.9636\n",
            "Epoch 98/100\n",
            " - 0s - loss: 3.4317e-05 - accuracy: 1.0000 - val_loss: 0.0261 - val_accuracy: 0.9636\n",
            "Epoch 99/100\n",
            " - 0s - loss: 3.4053e-05 - accuracy: 1.0000 - val_loss: 0.0261 - val_accuracy: 0.9636\n",
            "Epoch 100/100\n",
            " - 0s - loss: 3.3793e-05 - accuracy: 1.0000 - val_loss: 0.0261 - val_accuracy: 0.9636\n"
          ],
          "name": "stdout"
        }
      ]
    },
    {
      "cell_type": "markdown",
      "metadata": {
        "id": "MP2zAC5opfRo",
        "colab_type": "text"
      },
      "source": [
        "**MODEL TESTING**"
      ]
    },
    {
      "cell_type": "code",
      "metadata": {
        "id": "8fODZu8waPEJ",
        "colab_type": "code",
        "outputId": "9d6dcd6a-aa54-4a28-d075-cbd54647856c",
        "colab": {
          "base_uri": "https://localhost:8080/",
          "height": 34
        }
      },
      "source": [
        "result = model.evaluate(np.array(data_test), np.array(target_test))"
      ],
      "execution_count": 0,
      "outputs": [
        {
          "output_type": "stream",
          "text": [
            "200/200 [==============================] - 0s 178us/step\n"
          ],
          "name": "stdout"
        }
      ]
    },
    {
      "cell_type": "markdown",
      "metadata": {
        "id": "baZ920SfqADP",
        "colab_type": "text"
      },
      "source": [
        "\n",
        "**Print the model accuracy**"
      ]
    },
    {
      "cell_type": "code",
      "metadata": {
        "id": "S6UQbZd4aPWM",
        "colab_type": "code",
        "outputId": "098ab719-e9de-497c-a1a7-0df5bd9e9c68",
        "colab": {
          "base_uri": "https://localhost:8080/",
          "height": 50
        }
      },
      "source": [
        "for name, value in zip(model.metrics_names, result):\n",
        "    print(name, value)"
      ],
      "execution_count": 0,
      "outputs": [
        {
          "output_type": "stream",
          "text": [
            "loss 0.04514995038509369\n",
            "accuracy 0.949999988079071\n"
          ],
          "name": "stdout"
        }
      ]
    },
    {
      "cell_type": "markdown",
      "metadata": {
        "id": "CmqqIj0UqMLy",
        "colab_type": "text"
      },
      "source": [
        "PLOTING ACCURACY VS EPOCH AND LOSS VS EPOCH"
      ]
    },
    {
      "cell_type": "code",
      "metadata": {
        "id": "6XkNxJo1RG5r",
        "colab_type": "code",
        "outputId": "20334339-6f86-4f9b-c6c7-545a114ab467",
        "colab": {
          "base_uri": "https://localhost:8080/",
          "height": 640
        }
      },
      "source": [
        "# summarize history for accuracy\n",
        "plt.plot(history.history['accuracy'])\n",
        "plt.plot(history.history['val_accuracy'])\n",
        "plt.title('model accuracy')\n",
        "plt.ylabel('accuracy')\n",
        "plt.xlabel('epoch')\n",
        "plt.legend(['train', 'validation'], loc='lower right')\n",
        "plt.savefig('destination_path.eps', format='eps', dpi=1000)\n",
        "plt.show()\n",
        "\n",
        "# summarize history for loss\n",
        "plt.plot(history.history['loss'])\n",
        "plt.plot(history.history['val_loss'])\n",
        "plt.title('model loss')\n",
        "plt.ylabel('loss')\n",
        "plt.xlabel('epoch')\n",
        "plt.legend(['train', 'validation'], loc='upper left')\n",
        "plt.savefig('destination_path1.eps', format='eps', dpi=1000)\n",
        "plt.show()"
      ],
      "execution_count": 0,
      "outputs": [
        {
          "output_type": "stream",
          "text": [
            "The PostScript backend does not support transparency; partially transparent artists will be rendered opaque.\n",
            "The PostScript backend does not support transparency; partially transparent artists will be rendered opaque.\n"
          ],
          "name": "stderr"
        },
        {
          "output_type": "display_data",
          "data": {
            "image/png": "[encoded data removed]",
            "text/plain": [
              "<Figure size 432x288 with 1 Axes>"
            ]
          },
          "metadata": {
            "tags": [],
            "needs_background": "light"
          }
        },
        {
          "output_type": "stream",
          "text": [
            "The PostScript backend does not support transparency; partially transparent artists will be rendered opaque.\n",
            "The PostScript backend does not support transparency; partially transparent artists will be rendered opaque.\n"
          ],
          "name": "stderr"
        },
        {
          "output_type": "display_data",
          "data": {
            "image/png": "[encoded data removed]",
            "text/plain": [
              "<Figure size 432x288 with 1 Axes>"
            ]
          },
          "metadata": {
            "tags": [],
            "needs_background": "light"
          }
        }
      ]
    },
    {
      "cell_type": "markdown",
      "metadata": {
        "id": "ojCtcT16ZW81",
        "colab_type": "text"
      },
      "source": [
        "**VIDEO MACHINE**"
      ]
    },
    {
      "cell_type": "markdown",
      "metadata": {
        "id": "P2xKywfuO8PA",
        "colab_type": "text"
      },
      "source": [
        "The video machine is an interface between a Deep Learning Model and User. The system will take the input from the user and process it through the system. The system will hightlight the border with red color if violence is present otherwise green border will be added."
      ]
    },
    {
      "cell_type": "code",
      "metadata": {
        "colab_type": "code",
        "outputId": "5a020b98-a055-411d-f140-8f0b53d35315",
        "id": "RdVIptRRZUA9",
        "colab": {
          "base_uri": "https://localhost:8080/",
          "height": 50
        }
      },
      "source": [
        "in_dir_1 = '/content/drive/My Drive/Colab Notebooks/VIOLENCE_DATASET_TEST'\n",
        "print (\"Done!\")\n",
        "print(in_dir_1)\n",
        "\n",
        "#1,3,5,7-VIOLENCE VIDEO\n",
        "#2,4,6,8-NON_VIOLENCE VIDEOS"
      ],
      "execution_count": 0,
      "outputs": [
        {
          "output_type": "stream",
          "text": [
            "Done!\n",
            "/content/drive/My Drive/Colab Notebooks/VIOLENCE_DATASET_TEST\n"
          ],
          "name": "stdout"
        }
      ]
    },
    {
      "cell_type": "code",
      "metadata": {
        "colab_type": "code",
        "outputId": "eebb2e2f-364d-4b94-849b-7492bc3cfcaf",
        "id": "dEZEIJvbZUBB",
        "colab": {
          "base_uri": "https://localhost:8080/",
          "height": 34
        }
      },
      "source": [
        "def video_names(in_dir_1):\n",
        "    \n",
        "    # list containing video names\n",
        "    names1 = []\n",
        "\n",
        "    for current_dir, dir_names,file_names in os.walk(in_dir_1):\n",
        "        \n",
        "        for file_name1 in file_names:\n",
        "          \n",
        "           names1.append(file_name1)\n",
        "\n",
        "           #shuffle(names1)\n",
        "                  \n",
        "    return tuple(names1)\n",
        "\n",
        "print (\"Done!\")"
      ],
      "execution_count": 0,
      "outputs": [
        {
          "output_type": "stream",
          "text": [
            "Done!\n"
          ],
          "name": "stdout"
        }
      ]
    },
    {
      "cell_type": "code",
      "metadata": {
        "colab_type": "code",
        "outputId": "91615f89-a4f4-4de0-bbb9-9b5c0fe43df9",
        "id": "QJ4W-2G6ZUBF",
        "colab": {
          "base_uri": "https://localhost:8080/",
          "height": 50
        }
      },
      "source": [
        "# Storing in names1\n",
        "names1 = video_names(in_dir_1)\n",
        "print (\"Done!\")\n",
        "\n",
        "print(names1)"
      ],
      "execution_count": 0,
      "outputs": [
        {
          "output_type": "stream",
          "text": [
            "Done!\n",
            "('V_4.mp4', 'V_2.mp4', 'V_6.mp4', 'V_1.mp4', 'V_3.mp4', 'V_5.mp4', 'V_7.avi', 'V_8.mp4')\n"
          ],
          "name": "stdout"
        }
      ]
    },
    {
      "cell_type": "code",
      "metadata": {
        "colab_type": "code",
        "outputId": "a49dda71-590d-492e-de36-9e76dd918cea",
        "id": "gyhrgqWVZUBG",
        "colab": {
          "base_uri": "https://localhost:8080/",
          "height": 34
        }
      },
      "source": [
        "video_no=names1[5]\n",
        "print(video_no)"
      ],
      "execution_count": 0,
      "outputs": [
        {
          "output_type": "stream",
          "text": [
            "V_5.mp4\n"
          ],
          "name": "stdout"
        }
      ]
    },
    {
      "cell_type": "code",
      "metadata": {
        "id": "72kR9ledZj01",
        "colab_type": "code",
        "colab": {}
      },
      "source": [
        "frames1 = get_frames(in_dir_1, video_no)\n",
        "visible_frame = (frames1*255).astype('uint8')\n",
        "#plt.imshow(visible_frame[10])\n",
        "img_input=visible_frame[10]"
      ],
      "execution_count": 0,
      "outputs": []
    },
    {
      "cell_type": "code",
      "metadata": {
        "colab_type": "code",
        "id": "HPb0ETRQc-zw",
        "colab": {}
      },
      "source": [
        "from PIL import Image, ImageOps\n",
        "from numpy import asarray\n",
        "\n",
        "def add_border(input_image, output_image, border, color=0):\n",
        "    img = Image.open(input_image)\n",
        "    if isinstance(border, int) or isinstance(border, tuple):\n",
        "        bimg = ImageOps.expand(img, border=border, fill=color)\n",
        "    else:\n",
        "        raise RuntimeError('Border is not an integer or tuple!')\n",
        "    bimg.save(output_image)"
      ],
      "execution_count": 0,
      "outputs": []
    },
    {
      "cell_type": "code",
      "metadata": {
        "colab_type": "code",
        "id": "UoCoglcjc-z3",
        "colab": {}
      },
      "source": [
        "gr_im= Image.fromarray(img_input).save('violence_1.jpg')\n",
        "in_img = 'violence_1.jpg'\n"
      ],
      "execution_count": 0,
      "outputs": []
    },
    {
      "cell_type": "code",
      "metadata": {
        "id": "9Tn8hcXsZkCR",
        "colab_type": "code",
        "outputId": "5146291b-6563-435f-97fd-86f8f4f6cbbc",
        "colab": {
          "base_uri": "https://localhost:8080/",
          "height": 302
        }
      },
      "source": [
        "video = get_transfer_values(in_dir_1, video_no)\n",
        "video = video.reshape((1, video.shape[0], video.shape[1]))\n",
        "label = np.argmax(model.predict(video))\n",
        "\n",
        "if(label==1):\n",
        "  print('RESULT-VIOLENCE NOT PRESENT')\n",
        "  color_br='green'\n",
        "else:\n",
        "  print('RESULT-VIOLENCE PRESENT')\n",
        "  color_br='red'\n",
        "\n",
        "add_border(in_img ,output_image='violence_final.jpg',border=25,color=color_br)\n",
        "# load the image\n",
        "image = np.array(Image.open('violence_final.jpg').resize((500,500)))\n",
        "# convert image to numpy array\n",
        "data = asarray(image)\n",
        "plt.imshow(data)"
      ],
      "execution_count": 0,
      "outputs": [
        {
          "output_type": "stream",
          "text": [
            "RESULT-VIOLENCE PRESENT\n"
          ],
          "name": "stdout"
        },
        {
          "output_type": "execute_result",
          "data": {
            "text/plain": [
              "<matplotlib.image.AxesImage at 0x7f4e94c6c6d8>"
            ]
          },
          "metadata": {
            "tags": []
          },
          "execution_count": 116
        },
        {
          "output_type": "display_data",
          "data": {
            "image/png": "[encoded data removed]",
            "text/plain": [
              "<Figure size 432x288 with 1 Axes>"
            ]
          },
          "metadata": {
            "tags": [],
            "needs_background": "light"
          }
        }
      ]
    }
  ]
}